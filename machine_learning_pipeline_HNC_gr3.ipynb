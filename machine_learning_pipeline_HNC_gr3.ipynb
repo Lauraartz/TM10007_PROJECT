{
  "nbformat": 4,
  "nbformat_minor": 0,
  "metadata": {
    "colab": {
      "name": "PN210408_werkbestand6.ipynb",
      "provenance": [],
      "collapsed_sections": []
    },
    "kernelspec": {
      "name": "python3",
      "display_name": "Python 3"
    },
    "language_info": {
      "name": "python"
    }
  },
  "cells": [
    {
      "cell_type": "markdown",
      "metadata": {
        "id": "8TsJsDZArD0V"
      },
      "source": [
        "# Assignment Head and Neck cancer"
      ]
    },
    {
      "cell_type": "code",
      "metadata": {
        "id": "eplJarY7ZwOs"
      },
      "source": [
        "# !pip install pandas sklearn\n",
        "!pip install -q --upgrade git+https://github.com/Lauraartz/TM10007_PROJECT/\n",
        "\n",
        "import hn"
      ],
      "execution_count": null,
      "outputs": []
    },
    {
      "cell_type": "code",
      "metadata": {
        "id": "1RBxwYpYpvgN"
      },
      "source": [
        "import pandas\n",
        "import numpy as np\n",
        "import seaborn as sns\n",
        "import matplotlib.pyplot as plt\n",
        "\n",
        "from sklearn import model_selection\n",
        "from sklearn import preprocessing\n",
        "from sklearn import metrics\n",
        "from sklearn.neighbors import KNeighborsClassifier\n",
        "from sklearn.naive_bayes import GaussianNB\n",
        "from sklearn.discriminant_analysis import LinearDiscriminantAnalysis\n",
        "from sklearn.discriminant_analysis import QuadraticDiscriminantAnalysis\n",
        "from sklearn.linear_model import LogisticRegression\n",
        "from sklearn.linear_model import SGDClassifier\n",
        "from sklearn.tree import DecisionTreeClassifier\n",
        "from sklearn.ensemble import RandomForestClassifier\n",
        "from sklearn.svm import SVC\n",
        "from sklearn.decomposition import PCA"
      ],
      "execution_count": null,
      "outputs": []
    },
    {
      "cell_type": "markdown",
      "metadata": {
        "id": "yfkI2IFw88T4"
      },
      "source": [
        "Load data"
      ]
    },
    {
      "cell_type": "code",
      "metadata": {
        "id": "Zr0lHSPHfGBs"
      },
      "source": [
        "# Get data\n",
        "data = pandas.read_csv('/usr/local/lib/python3.7/dist-packages/hn/HN_radiomicFeatures.csv')\n",
        "feature_names = list(data.columns)\n",
        "label_name = feature_names.pop(13)\n",
        "feature_names.pop(0) # do not use patient ID for classification\n",
        "\n",
        "# Replace labels T12 and T34 with 0 and 1\n",
        "data = data.replace('T12', 0)\n",
        "data = data.replace('T34', 1)\n",
        "\n",
        "# Split data in test and train data\n",
        "data_train, data_test = model_selection.train_test_split(data, test_size=0.2, stratify=data[label_name])\n",
        "x_train = data_train[feature_names]\n",
        "x_test = data_test[feature_names]\n",
        "y_train = data_train[label_name]\n",
        "y_test = data_test[label_name]\n",
        "\n",
        "# convert labels to numpy array\n",
        "y_train = np.array(y_train)\n",
        "y_test = np.array(y_test)"
      ],
      "execution_count": null,
      "outputs": []
    },
    {
      "cell_type": "markdown",
      "metadata": {
        "id": "5pNKaTxwoioE"
      },
      "source": [
        "Feature scaling"
      ]
    },
    {
      "cell_type": "code",
      "metadata": {
        "id": "-W984BVJorOk"
      },
      "source": [
        "# code for feature scaling\n",
        "scaler = preprocessing.RobustScaler()\n",
        "scaler.fit(x_train)\n",
        "xs_train = scaler.transform(x_train)\n",
        "xs_test = scaler.transform(x_test)"
      ],
      "execution_count": null,
      "outputs": []
    },
    {
      "cell_type": "markdown",
      "metadata": {
        "id": "rUgAP4yxotZY"
      },
      "source": [
        "Feature selection"
      ]
    },
    {
      "cell_type": "code",
      "metadata": {
        "id": "UD9F9OK-oujo",
        "colab": {
          "base_uri": "https://localhost:8080/"
        },
        "outputId": "da1653ea-e466-494a-e7f4-573d6a81a369"
      },
      "source": [
        "# Perform a Principal Component Analysis and use the 2 main components\n",
        "pca = PCA(n_components=2)\n",
        "pca.fit(xs_train)\n",
        "xs_train_pca = pca.transform(xs_train)\n",
        "xs_test_pca = pca.transform(xs_test)\n",
        "\n",
        "print(f\"Explained variance ratio of the used components: {pca.explained_variance_ratio_}\")"
      ],
      "execution_count": null,
      "outputs": [
        {
          "output_type": "stream",
          "text": [
            "Explained variance ratio of the used components: [0.44978818 0.42584978]\n"
          ],
          "name": "stdout"
        }
      ]
    },
    {
      "cell_type": "markdown",
      "metadata": {
        "id": "Jv_GndASWaRm"
      },
      "source": [
        "Choose right classifier:"
      ]
    },
    {
      "cell_type": "code",
      "metadata": {
        "colab": {
          "base_uri": "https://localhost:8080/"
        },
        "id": "HdJeBkQbD2Rp",
        "outputId": "f2f67db8-0cb9-4659-a818-4701a04aed82"
      },
      "source": [
        "# Create list of classifiers\n",
        "svmlin = SVC(kernel='linear', gamma='scale')\n",
        "svmrbf = SVC(kernel='rbf', gamma='scale')\n",
        "svmpoly = SVC(kernel='poly', degree=3, gamma='scale')\n",
        "\n",
        "clsfs = [LinearDiscriminantAnalysis(),QuadraticDiscriminantAnalysis(),GaussianNB(), \n",
        "         LogisticRegression(),SGDClassifier(),KNeighborsClassifier(),DecisionTreeClassifier(),\n",
        "         RandomForestClassifier(), svmlin, svmpoly, svmrbf]\n",
        "\n",
        "# Setup split\n",
        "sss = model_selection.StratifiedShuffleSplit(n_splits=10, test_size=0.3)\n",
        "\n",
        "# Train the different classifiers on multiple train/validation splits and return mean accuracy\n",
        "for clf in clsfs:\n",
        "    results = []\n",
        "    for train_index, val_index in sss.split(xs_train_pca, y_train):\n",
        "        train_scores = []\n",
        "        val_scores = []\n",
        "        \n",
        "        split_X_train = xs_train_pca[train_index]\n",
        "        split_y_train = y_train[train_index]\n",
        "        split_X_val = xs_train_pca[val_index]\n",
        "        split_y_val = y_train[val_index]\n",
        "        \n",
        "        # Fit classifier\n",
        "        clf.fit(split_X_train,split_y_train)\n",
        "\n",
        "        # Get accuracy of the trained classifier on the validation set\n",
        "        score = clf.score(split_X_val, split_y_val)\n",
        "        results.append(score)\n",
        "    \n",
        "    # Print performance of the classifier \n",
        "    print(clf)\n",
        "    print(f'mean accuracy: {np.mean(results)}, std: {np.std(results)}\\n')\n"
      ],
      "execution_count": null,
      "outputs": [
        {
          "output_type": "stream",
          "text": [
            "LinearDiscriminantAnalysis(n_components=None, priors=None, shrinkage=None,\n",
            "                           solver='svd', store_covariance=False, tol=0.0001)\n",
            "mean accuracy: 0.5592592592592592, std: 0.053543823314077636\n",
            "\n",
            "QuadraticDiscriminantAnalysis(priors=None, reg_param=0.0,\n",
            "                              store_covariance=False, tol=0.0001)\n",
            "mean accuracy: 0.5592592592592592, std: 0.07490277191169142\n",
            "\n",
            "GaussianNB(priors=None, var_smoothing=1e-09)\n",
            "mean accuracy: 0.4851851851851852, std: 0.048148148148148155\n",
            "\n",
            "LogisticRegression(C=1.0, class_weight=None, dual=False, fit_intercept=True,\n",
            "                   intercept_scaling=1, l1_ratio=None, max_iter=100,\n",
            "                   multi_class='auto', n_jobs=None, penalty='l2',\n",
            "                   random_state=None, solver='lbfgs', tol=0.0001, verbose=0,\n",
            "                   warm_start=False)\n",
            "mean accuracy: 0.6666666666666667, std: 0.08919699687994292\n",
            "\n",
            "SGDClassifier(alpha=0.0001, average=False, class_weight=None,\n",
            "              early_stopping=False, epsilon=0.1, eta0=0.0, fit_intercept=True,\n",
            "              l1_ratio=0.15, learning_rate='optimal', loss='hinge',\n",
            "              max_iter=1000, n_iter_no_change=5, n_jobs=None, penalty='l2',\n",
            "              power_t=0.5, random_state=None, shuffle=True, tol=0.001,\n",
            "              validation_fraction=0.1, verbose=0, warm_start=False)\n",
            "mean accuracy: 0.5148148148148147, std: 0.17486032050537592\n",
            "\n",
            "KNeighborsClassifier(algorithm='auto', leaf_size=30, metric='minkowski',\n",
            "                     metric_params=None, n_jobs=None, n_neighbors=5, p=2,\n",
            "                     weights='uniform')\n",
            "mean accuracy: 0.7407407407407407, std: 0.06197481678030191\n",
            "\n",
            "DecisionTreeClassifier(ccp_alpha=0.0, class_weight=None, criterion='gini',\n",
            "                       max_depth=None, max_features=None, max_leaf_nodes=None,\n",
            "                       min_impurity_decrease=0.0, min_impurity_split=None,\n",
            "                       min_samples_leaf=1, min_samples_split=2,\n",
            "                       min_weight_fraction_leaf=0.0, presort='deprecated',\n",
            "                       random_state=None, splitter='best')\n",
            "mean accuracy: 0.7148148148148147, std: 0.07416660886852142\n",
            "\n",
            "RandomForestClassifier(bootstrap=True, ccp_alpha=0.0, class_weight=None,\n",
            "                       criterion='gini', max_depth=None, max_features='auto',\n",
            "                       max_leaf_nodes=None, max_samples=None,\n",
            "                       min_impurity_decrease=0.0, min_impurity_split=None,\n",
            "                       min_samples_leaf=1, min_samples_split=2,\n",
            "                       min_weight_fraction_leaf=0.0, n_estimators=100,\n",
            "                       n_jobs=None, oob_score=False, random_state=None,\n",
            "                       verbose=0, warm_start=False)\n",
            "mean accuracy: 0.6888888888888889, std: 0.06457628064504702\n",
            "\n",
            "SVC(C=1.0, break_ties=False, cache_size=200, class_weight=None, coef0=0.0,\n",
            "    decision_function_shape='ovr', degree=3, gamma='scale', kernel='linear',\n",
            "    max_iter=-1, probability=False, random_state=None, shrinking=True,\n",
            "    tol=0.001, verbose=False)\n",
            "mean accuracy: 0.6592592592592593, std: 0.08574694002066834\n",
            "\n",
            "SVC(C=1.0, break_ties=False, cache_size=200, class_weight=None, coef0=0.0,\n",
            "    decision_function_shape='ovr', degree=3, gamma='scale', kernel='poly',\n",
            "    max_iter=-1, probability=False, random_state=None, shrinking=True,\n",
            "    tol=0.001, verbose=False)\n",
            "mean accuracy: 0.5074074074074074, std: 0.016972502573910517\n",
            "\n",
            "SVC(C=1.0, break_ties=False, cache_size=200, class_weight=None, coef0=0.0,\n",
            "    decision_function_shape='ovr', degree=3, gamma='scale', kernel='rbf',\n",
            "    max_iter=-1, probability=False, random_state=None, shrinking=True,\n",
            "    tol=0.001, verbose=False)\n",
            "mean accuracy: 0.5703703703703703, std: 0.041242698983926095\n",
            "\n"
          ],
          "name": "stdout"
        }
      ]
    },
    {
      "cell_type": "markdown",
      "metadata": {
        "id": "64sTWNlPhOMF"
      },
      "source": [
        "Plot accuracy of training and validation set for different min_samples_leaf  values in the RandomForestClassifier\n"
      ]
    },
    {
      "cell_type": "code",
      "metadata": {
        "colab": {
          "base_uri": "https://localhost:8080/",
          "height": 500
        },
        "id": "KuGaU7G_ORJk",
        "outputId": "e8f03388-5433-4a96-c6e2-9c5b187b7da3"
      },
      "source": [
        "# Plot train and validation accuracy for different parameter values\n",
        "\n",
        "# Define range of min_samples_leaf values\n",
        "parameter_list = list(range(2, 30, 2))\n",
        "\n",
        "all_train = []\n",
        "all_val = []\n",
        "\n",
        "# Repeat the experiment 20 times, use 20 random splits in which class balance is retained\n",
        "sss = model_selection.StratifiedShuffleSplit(n_splits=20, test_size=0.3)\n",
        "\n",
        "for train_index, val_index in sss.split(xs_train_pca, y_train):\n",
        "    train_scores = []\n",
        "    val_scores = []\n",
        "    \n",
        "    split_X_train = xs_train_pca[train_index]\n",
        "    split_y_train = y_train[train_index]\n",
        "    split_X_val = xs_train_pca[val_index]\n",
        "    split_y_val = y_train[val_index]\n",
        "\n",
        "    # Train the classifier for each value in parameter_list en evaluate train and validation accuracy scores\n",
        "    for k in parameter_list:\n",
        "        clf_rfc = RandomForestClassifier(min_samples_leaf=k)\n",
        "        clf_rfc.fit(split_X_train, split_y_train)\n",
        "\n",
        "        # Test the classifier on the training data and plot\n",
        "        score_train = clf_rfc.score(split_X_train, split_y_train)\n",
        "        score_val = clf_rfc.score(split_X_val, split_y_val)\n",
        "\n",
        "        train_scores.append(score_train)\n",
        "        val_scores.append(score_val)\n",
        "        \n",
        "    all_train.append(train_scores)\n",
        "    all_val.append(val_scores)\n",
        "\n",
        "\n",
        "# Create numpy array of scores and calculate the mean and std\n",
        "all_train = np.array(all_train)\n",
        "all_val = np.array(all_val)\n",
        "\n",
        "train_scores_mean = all_train.mean(axis=0)\n",
        "train_scores_std = all_train.std(axis=0)\n",
        "\n",
        "val_scores_mean = all_val.mean(axis=0)\n",
        "val_scores_std = all_val.std(axis=0)\n",
        "\n",
        "# Plot the mean scores and the std as shading\n",
        "fig = plt.figure(figsize=(8,8))\n",
        "ax = fig.add_subplot(111)\n",
        "ax.grid()\n",
        "ax.fill_between(parameter_list, train_scores_mean - train_scores_std,\n",
        "                     train_scores_mean + train_scores_std, alpha=0.1,\n",
        "                     color=\"r\")\n",
        "ax.fill_between(parameter_list, val_scores_mean - val_scores_std,\n",
        "                     val_scores_mean + val_scores_std, alpha=0.1,\n",
        "                     color=\"g\")\n",
        "ax.plot(parameter_list, train_scores_mean, 'o-', color=\"r\",\n",
        "        label=\"Training score\")\n",
        "ax.plot(parameter_list, val_scores_mean, 'o-', color=\"g\",\n",
        "        label=\"Validation score\")\n"
      ],
      "execution_count": null,
      "outputs": [
        {
          "output_type": "execute_result",
          "data": {
            "text/plain": [
              "[<matplotlib.lines.Line2D at 0x7fd938c34750>]"
            ]
          },
          "metadata": {
            "tags": []
          },
          "execution_count": 7
        },
        {
          "output_type": "display_data",
          "data": {
            "image/png": "[encoded data removed]",
            "text/plain": [
              "<Figure size 576x576 with 1 Axes>"
            ]
          },
          "metadata": {
            "tags": [],
            "needs_background": "light"
          }
        }
      ]
    },
    {
      "cell_type": "markdown",
      "metadata": {
        "id": "eOS_kw7ecD6m"
      },
      "source": [
        "Initialize model"
      ]
    },
    {
      "cell_type": "code",
      "metadata": {
        "id": "uv7vuXewcCt9"
      },
      "source": [
        "clf = RandomForestClassifier(min_samples_leaf=20)"
      ],
      "execution_count": null,
      "outputs": []
    },
    {
      "cell_type": "markdown",
      "metadata": {
        "id": "LGUdor2Wf1y8"
      },
      "source": [
        "Train model on train set and measure performance on test set"
      ]
    },
    {
      "cell_type": "code",
      "metadata": {
        "id": "TtW90FITpD1k",
        "colab": {
          "base_uri": "https://localhost:8080/"
        },
        "outputId": "c997d148-60b7-4769-d46c-25c17c474c60"
      },
      "source": [
        "# train optimised desicion tree on training set\n",
        "clf.fit(xs_train_pca,y_train)\n",
        "\n",
        "# Measure accuracy of the model on test set\n",
        "score = clf.score(xs_test_pca, y_test)\n",
        "\n",
        "# Measure AUC under ROC of the model on test set\n",
        "probabilities = clf.predict_proba(xs_test_pca)\n",
        "scores = probabilities[:, 1]\n",
        "auc = metrics.roc_auc_score(y_test, scores)\n",
        "\n",
        "# Measure sensitivity and specificity of the model on test set\n",
        "y_pred = clf.predict(xs_test_pca)\n",
        "clf_report = metrics.classification_report(y_test, y_pred, output_dict=True)\n",
        "sens = clf_report['1']['recall']\n",
        "spec = clf_report['0']['recall']\n",
        "\n",
        "# Print evaluation scores of the model on the test set\n",
        "print(f\"Accuracy: {score}\")\n",
        "print(f\"AUC: {auc}\")\n",
        "print(f\"Sensitivity: {sens}\")\n",
        "print(f\"Specificity: {spec}\")"
      ],
      "execution_count": null,
      "outputs": [
        {
          "output_type": "stream",
          "text": [
            "Accuracy: 0.6086956521739131\n",
            "AUC: 0.6477272727272727\n",
            "Sensitivity: 0.45454545454545453\n",
            "Specificity: 0.75\n"
          ],
          "name": "stdout"
        }
      ]
    },
    {
      "cell_type": "markdown",
      "metadata": {
        "id": "d2zmZRdZ8IgU"
      },
      "source": [
        "Visualization of the RandomForest classification"
      ]
    },
    {
      "cell_type": "code",
      "metadata": {
        "colab": {
          "base_uri": "https://localhost:8080/",
          "height": 516
        },
        "id": "qgTmlB2t8Mc8",
        "outputId": "bd9e2a48-91bf-4ea4-acda-15c1eaff43bc"
      },
      "source": [
        "def colorplot(clf, ax, x, y, h=100):\n",
        "    '''\n",
        "    Overlay the decision areas as colors in an axes.    \n",
        "    \n",
        "    Input:\n",
        "        clf: trained classifier\n",
        "        ax: axis to overlay color mesh on\n",
        "        x: feature on x-axis\n",
        "        y: feature on y-axis\n",
        "        h(optional): steps in the mesh\n",
        "    '''\n",
        "    # Create a meshgrid the size of the axis\n",
        "    xstep = (x.max() - x.min() ) / 20.0\n",
        "    ystep = (y.max() - y.min() ) / 20.0\n",
        "    x_min, x_max = x.min() - xstep, x.max() + xstep\n",
        "    y_min, y_max = y.min() - ystep, y.max() + ystep\n",
        "    h = max((x_max - x_min, y_max - y_min))/h\n",
        "    xx, yy = np.meshgrid(np.arange(x_min, x_max, h),\n",
        "                         np.arange(y_min, y_max, h))\n",
        "    \n",
        "    # Plot the decision boundary. For that, we will assign a color to each\n",
        "    # point in the mesh [x_min, x_max]x[y_min, y_max].\n",
        "    if hasattr(clf, \"decision_function\"):\n",
        "        Z = clf.decision_function(np.c_[xx.ravel(), yy.ravel()])\n",
        "    else:\n",
        "        Z = clf.predict_proba(np.c_[xx.ravel(), yy.ravel()])\n",
        "    if len(Z.shape) > 1:\n",
        "        Z = Z[:, 1]\n",
        "    \n",
        "    # Put the result into a color plot\n",
        "    cm = plt.cm.RdBu_r\n",
        "    Z = Z.reshape(xx.shape)\n",
        "    ax.contourf(xx, yy, Z, cmap=cm, alpha=.8)\n",
        "    del xx, yy, x_min, x_max, y_min, y_max, Z, cm\n",
        "\n",
        "# Figure classification on training data\n",
        "train_score = clf.score(xs_train_pca, y_train)\n",
        "fig = plt.figure(figsize=(16, 8))\n",
        "ax = fig.add_subplot(1, 2, 1)\n",
        "ax.set_title(f\"Training performance: accuracy {train_score}\")\n",
        "colorplot(clf, ax, xs_train_pca[:, 0],xs_train_pca[:, 1], h=1000)\n",
        "ax.scatter(xs_train_pca[:, 0], xs_train_pca[:, 1], marker='o', c=y_train,\n",
        "           s=25, edgecolor='k', cmap=plt.cm.Paired)\n",
        "\n",
        "# Figure classification on unseen test data\n",
        "test_score = clf.score(xs_test_pca, y_test)\n",
        "ax = fig.add_subplot(1, 2, 2)\n",
        "ax.set_title(f\"Testing performance: accuracy {test_score}\")\n",
        "colorplot(clf, ax, xs_test_pca[:, 0],xs_test_pca[:, 1], h=1000)\n",
        "ax.scatter(xs_test_pca[:, 0], xs_test_pca[:, 1], marker='o', c=y_test,\n",
        "           s=25, edgecolor='k', cmap=plt.cm.Paired)\n"
      ],
      "execution_count": null,
      "outputs": [
        {
          "output_type": "execute_result",
          "data": {
            "text/plain": [
              "<matplotlib.collections.PathCollection at 0x7fd938741090>"
            ]
          },
          "metadata": {
            "tags": []
          },
          "execution_count": 10
        },
        {
          "output_type": "display_data",
          "data": {
            "image/png": "[encoded data removed]",
            "text/plain": [
              "<Figure size 1152x576 with 2 Axes>"
            ]
          },
          "metadata": {
            "tags": [],
            "needs_background": "light"
          }
        }
      ]
    },
    {
      "cell_type": "markdown",
      "metadata": {
        "id": "2ODYjUPVKf7J"
      },
      "source": [
        "Repeat model fitting and evaluation 100 times with different train/test splits and evaluate overall performance of the model"
      ]
    },
    {
      "cell_type": "code",
      "metadata": {
        "id": "FE6_4m0iW9et",
        "colab": {
          "base_uri": "https://localhost:8080/",
          "height": 1000
        },
        "outputId": "8f1ff8df-5ac5-4f49-e9ad-c868e606f802"
      },
      "source": [
        "# Get data\n",
        "data = pandas.read_csv('/usr/local/lib/python3.7/dist-packages/hn/HN_radiomicFeatures.csv')\n",
        "feature_names = list(data.columns)\n",
        "label_name = feature_names.pop(13)\n",
        "feature_names.pop(0) # do not use patient ID for classification\n",
        "\n",
        "# Replace labels T12 and T34 with 0 and 1\n",
        "data = data.replace('T12', 0)\n",
        "data = data.replace('T34', 1)\n",
        "\n",
        "accuracy_scores = []\n",
        "sens_scores = []\n",
        "spec_scores = []\n",
        "auc_scores = []\n",
        "\n",
        "for i in range(1,101):\n",
        "  # Split data in test and train data\n",
        "  data_train, data_test = model_selection.train_test_split(data, test_size=0.2, stratify=data[label_name])\n",
        "  x_train = data_train[feature_names]\n",
        "  x_test = data_test[feature_names]\n",
        "  y_train = data_train[label_name]\n",
        "  y_test = data_test[label_name]\n",
        "\n",
        "  # convert labels to numpy array\n",
        "  y_train = np.array(y_train)\n",
        "  y_test = np.array(y_test)\n",
        "\n",
        "  # code for feature scaling\n",
        "  scaler = preprocessing.RobustScaler()\n",
        "  scaler.fit(x_train)\n",
        "  xs_train = scaler.transform(x_train)\n",
        "  xs_test = scaler.transform(x_test)\n",
        "\n",
        "  # Perform a Principal Component Analysis and use the 2 main components\n",
        "  pca = PCA(n_components=2)\n",
        "  pca.fit(xs_train)\n",
        "  xs_train_pca = pca.transform(xs_train)\n",
        "  xs_test_pca = pca.transform(xs_test)\n",
        "\n",
        "  clf = RandomForestClassifier(min_samples_leaf=20)\n",
        "\n",
        "  # train optimised desicion tree on training set\n",
        "  clf.fit(xs_train_pca,y_train)\n",
        "\n",
        "  # Measure accuracy of the model on test set\n",
        "  score = clf.score(xs_test_pca, y_test)\n",
        "\n",
        "  # Measure AUC under ROC of the model on test set\n",
        "  probabilities = clf.predict_proba(xs_test_pca)\n",
        "  scores = probabilities[:, 1]\n",
        "  auc = metrics.roc_auc_score(y_test, scores)\n",
        "\n",
        "  # Measure sensitivity and specificity of the model on test set\n",
        "  y_pred = clf.predict(xs_test_pca)\n",
        "  clf_report = metrics.classification_report(y_test, y_pred, output_dict=True)\n",
        "  sens = clf_report['1']['recall']\n",
        "  spec = clf_report['0']['recall']\n",
        "\n",
        "  accuracy_scores.append(score)\n",
        "  auc_scores.append(auc)\n",
        "  sens_scores.append(sens)\n",
        "  spec_scores.append(spec)\n",
        "\n",
        "# Print mean, minimum and maximum values of the outcome measures\n",
        "print(f\"Accuracy\\n mean: {np.mean(accuracy_scores)} min {np.min(accuracy_scores)} max {np.max(accuracy_scores)}\")\n",
        "print(f\"AUC under ROC\\n mean: {np.mean(auc_scores)} min {np.min(auc_scores)} max {np.max(auc_scores)}\")\n",
        "print(f\"Sensitivity\\n mean: {np.mean(sens_scores)} min {np.min(sens_scores)} max {np.max(sens_scores)}\")\n",
        "print(f\"Specificity\\n mean: {np.mean(spec_scores)} min {np.min(spec_scores)} max {np.max(spec_scores)}\")\n",
        "\n",
        "# Save outcome measures per itteration in a DataFrame\n",
        "outcome_data = pandas.DataFrame({'Accuracy': accuracy_scores,\n",
        "                                 'AUC under ROC': auc_scores,\n",
        "                                 'Sensitivity': sens_scores,\n",
        "                                 'Specificity': spec_scores})\n",
        "\n",
        "# Print outcome measures per itteration \n",
        "pandas.set_option('display.max_rows', None)\n",
        "print(outcome_data)\n",
        "\n",
        "# Create boxplot of the outcome measures\n",
        "ax = sns.boxplot(data=outcome_data)\n"
      ],
      "execution_count": null,
      "outputs": [
        {
          "output_type": "stream",
          "text": [
            "Accuracy\n",
            " mean: 0.6878260869565217 min 0.43478260869565216 max 0.8695652173913043\n",
            "AUC under ROC\n",
            " mean: 0.7359469696969696 min 0.45454545454545453 max 0.9772727272727273\n",
            "Sensitivity\n",
            " mean: 0.6590909090909092 min 0.2727272727272727 max 1.0\n",
            "Specificity\n",
            " mean: 0.7141666666666667 min 0.3333333333333333 max 1.0\n",
            "    Accuracy  AUC under ROC  Sensitivity  Specificity\n",
            "0   0.782609       0.852273     0.727273     0.833333\n",
            "1   0.695652       0.731061     0.636364     0.750000\n",
            "2   0.739130       0.848485     0.636364     0.833333\n",
            "3   0.782609       0.901515     0.636364     0.916667\n",
            "4   0.695652       0.731061     0.454545     0.916667\n",
            "5   0.608696       0.636364     0.545455     0.666667\n",
            "6   0.695652       0.742424     0.545455     0.833333\n",
            "7   0.869565       0.905303     0.909091     0.833333\n",
            "8   0.478261       0.522727     0.545455     0.416667\n",
            "9   0.739130       0.776515     0.727273     0.750000\n",
            "10  0.652174       0.693182     0.636364     0.666667\n",
            "11  0.782609       0.863636     0.636364     0.916667\n",
            "12  0.782609       0.825758     0.818182     0.750000\n",
            "13  0.652174       0.659091     0.727273     0.583333\n",
            "14  0.695652       0.708333     0.545455     0.833333\n",
            "15  0.695652       0.700758     0.636364     0.750000\n",
            "16  0.695652       0.727273     0.818182     0.583333\n",
            "17  0.652174       0.647727     0.818182     0.500000\n",
            "18  0.739130       0.746212     0.909091     0.583333\n",
            "19  0.652174       0.799242     0.909091     0.416667\n",
            "20  0.782609       0.787879     0.727273     0.833333\n",
            "21  0.652174       0.625000     0.545455     0.750000\n",
            "22  0.739130       0.799242     0.727273     0.750000\n",
            "23  0.826087       0.890152     0.727273     0.916667\n",
            "24  0.739130       0.791667     0.818182     0.666667\n",
            "25  0.695652       0.708333     0.818182     0.583333\n",
            "26  0.521739       0.640152     0.545455     0.500000\n",
            "27  0.826087       0.818182     0.818182     0.833333\n",
            "28  0.695652       0.746212     0.727273     0.666667\n",
            "29  0.565217       0.640152     0.545455     0.583333\n",
            "30  0.652174       0.746212     0.454545     0.833333\n",
            "31  0.652174       0.719697     0.545455     0.750000\n",
            "32  0.565217       0.696970     0.454545     0.666667\n",
            "33  0.739130       0.977273     1.000000     0.500000\n",
            "34  0.565217       0.636364     0.636364     0.500000\n",
            "35  0.521739       0.704545     0.727273     0.333333\n",
            "36  0.739130       0.818182     0.727273     0.750000\n",
            "37  0.695652       0.731061     0.545455     0.833333\n",
            "38  0.695652       0.787879     0.909091     0.500000\n",
            "39  0.521739       0.587121     0.454545     0.583333\n",
            "40  0.565217       0.571970     0.545455     0.583333\n",
            "41  0.695652       0.787879     0.454545     0.916667\n",
            "42  0.652174       0.640152     0.818182     0.500000\n",
            "43  0.826087       0.863636     0.636364     1.000000\n",
            "44  0.652174       0.617424     0.545455     0.750000\n",
            "45  0.739130       0.844697     0.454545     1.000000\n",
            "46  0.695652       0.859848     0.818182     0.583333\n",
            "47  0.869565       0.909091     0.818182     0.916667\n",
            "48  0.434783       0.454545     0.545455     0.333333\n",
            "49  0.695652       0.742424     0.545455     0.833333\n",
            "50  0.652174       0.647727     0.545455     0.750000\n",
            "51  0.869565       0.806818     0.818182     0.916667\n",
            "52  0.826087       0.833333     0.909091     0.750000\n",
            "53  0.782609       0.787879     0.727273     0.833333\n",
            "54  0.608696       0.746212     0.636364     0.583333\n",
            "55  0.739130       0.765152     0.545455     0.916667\n",
            "56  0.782609       0.674242     0.818182     0.750000\n",
            "57  0.652174       0.681818     0.636364     0.666667\n",
            "58  0.608696       0.598485     0.636364     0.583333\n",
            "59  0.782609       0.814394     0.818182     0.750000\n",
            "60  0.652174       0.818182     0.909091     0.416667\n",
            "61  0.652174       0.681818     0.454545     0.833333\n",
            "62  0.608696       0.598485     0.727273     0.500000\n",
            "63  0.739130       0.803030     0.727273     0.750000\n",
            "64  0.739130       0.844697     0.636364     0.833333\n",
            "65  0.782609       0.886364     0.636364     0.916667\n",
            "66  0.608696       0.643939     0.636364     0.583333\n",
            "67  0.652174       0.647727     0.545455     0.750000\n",
            "68  0.652174       0.765152     0.818182     0.500000\n",
            "69  0.739130       0.772727     0.545455     0.916667\n",
            "70  0.695652       0.731061     0.727273     0.666667\n",
            "71  0.739130       0.731061     0.636364     0.833333\n",
            "72  0.695652       0.662879     0.636364     0.750000\n",
            "73  0.782609       0.693182     0.636364     0.916667\n",
            "74  0.521739       0.606061     0.636364     0.416667\n",
            "75  0.652174       0.727273     0.545455     0.750000\n",
            "76  0.826087       0.890152     0.818182     0.833333\n",
            "77  0.565217       0.681818     0.272727     0.833333\n",
            "78  0.652174       0.708333     0.636364     0.666667\n",
            "79  0.608696       0.617424     0.545455     0.666667\n",
            "80  0.695652       0.780303     0.818182     0.583333\n",
            "81  0.782609       0.715909     0.545455     1.000000\n",
            "82  0.695652       0.742424     0.727273     0.666667\n",
            "83  0.826087       0.780303     0.636364     1.000000\n",
            "84  0.521739       0.643939     0.363636     0.666667\n",
            "85  0.826087       0.867424     0.636364     1.000000\n",
            "86  0.695652       0.712121     0.727273     0.666667\n",
            "87  0.739130       0.848485     0.909091     0.583333\n",
            "88  0.695652       0.742424     0.727273     0.666667\n",
            "89  0.565217       0.651515     0.363636     0.750000\n",
            "90  0.608696       0.636364     0.636364     0.583333\n",
            "91  0.565217       0.640152     0.454545     0.666667\n",
            "92  0.608696       0.689394     0.454545     0.750000\n",
            "93  0.695652       0.659091     0.636364     0.750000\n",
            "94  0.695652       0.734848     0.818182     0.583333\n",
            "95  0.695652       0.681818     0.636364     0.750000\n",
            "96  0.652174       0.787879     0.454545     0.833333\n",
            "97  0.695652       0.772727     0.909091     0.500000\n",
            "98  0.739130       0.806818     0.727273     0.750000\n",
            "99  0.608696       0.670455     0.454545     0.750000\n"
          ],
          "name": "stdout"
        },
        {
          "output_type": "display_data",
          "data": {
            "image/png": "[encoded data removed]",
            "text/plain": [
              "<Figure size 432x288 with 1 Axes>"
            ]
          },
          "metadata": {
            "tags": [],
            "needs_background": "light"
          }
        }
      ]
    }
  ]
}